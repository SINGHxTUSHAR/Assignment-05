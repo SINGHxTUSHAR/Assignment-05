{
 "cells": [
  {
   "cell_type": "markdown",
   "id": "5203d1a2",
   "metadata": {},
   "source": [
    "Q1, Create a vehicle class with an init method having instance variables as name_of_vehicle, max_speed\n",
    "and average_of_vehicle."
   ]
  },
  {
   "cell_type": "code",
   "execution_count": 1,
   "id": "96019f6a",
   "metadata": {},
   "outputs": [],
   "source": [
    "class vehicle:\n",
    "    def __init__(self,name_of_vehicle,max_speed,average_of_vehicle):\n",
    "        self.name_of_vehicle = name_of_vehicle\n",
    "        self.max_speed = max_speed\n",
    "        self.average_of_vehicle = average_of_vehicle"
   ]
  },
  {
   "cell_type": "code",
   "execution_count": 4,
   "id": "53f0139c",
   "metadata": {},
   "outputs": [],
   "source": [
    "car_obj = vehicle(\"SUV\",95,35)"
   ]
  },
  {
   "cell_type": "code",
   "execution_count": 5,
   "id": "3f0b1922",
   "metadata": {},
   "outputs": [
    {
     "data": {
      "text/plain": [
       "95"
      ]
     },
     "execution_count": 5,
     "metadata": {},
     "output_type": "execute_result"
    }
   ],
   "source": [
    "car_obj.max_speed"
   ]
  },
  {
   "cell_type": "code",
   "execution_count": null,
   "id": "d5b461b4",
   "metadata": {},
   "outputs": [],
   "source": []
  },
  {
   "cell_type": "markdown",
   "id": "a3f3887b",
   "metadata": {},
   "source": [
    "Q2.  Create a child class car from the vehicle class created in Que 1, which will inherit the vehicle class.\n",
    "Create a method named seating_capacity which takes capacity as an argument and returns the name of\n",
    "the vehicle and its seating capacity."
   ]
  },
  {
   "cell_type": "code",
   "execution_count": 26,
   "id": "d0488a10",
   "metadata": {},
   "outputs": [],
   "source": [
    "class car(vehicle):\n",
    "    def seating_capacity(self,capacity):\n",
    "        self.capacity = capacity\n",
    "        return \"The name of the car is {} \".format(self.name_of_vehicle) + \"and \" + \"capacity is {}\".format(self.capacity)"
   ]
  },
  {
   "cell_type": "code",
   "execution_count": 27,
   "id": "7dde3763",
   "metadata": {},
   "outputs": [],
   "source": [
    "car_obj2 = car(\"thar\",54,65)"
   ]
  },
  {
   "cell_type": "code",
   "execution_count": 28,
   "id": "6bae7707",
   "metadata": {},
   "outputs": [
    {
     "data": {
      "text/plain": [
       "'The name of the car is thar and capacity is 8'"
      ]
     },
     "execution_count": 28,
     "metadata": {},
     "output_type": "execute_result"
    }
   ],
   "source": [
    "car_obj2.seating_capacity(8)"
   ]
  },
  {
   "cell_type": "code",
   "execution_count": null,
   "id": "1f3ee85a",
   "metadata": {},
   "outputs": [],
   "source": []
  },
  {
   "cell_type": "markdown",
   "id": "194d8d80",
   "metadata": {},
   "source": [
    "Q3. What is multiple inheritance? Write a python code to demonstrate multiple inheritance."
   ]
  },
  {
   "cell_type": "markdown",
   "id": "62ef9fed",
   "metadata": {},
   "source": [
    "Multiple inheritance is acheived when a class is inherited by other two classes, which means that this class will have the property of both the classes."
   ]
  },
  {
   "cell_type": "code",
   "execution_count": 29,
   "id": "f7cc2db7",
   "metadata": {},
   "outputs": [],
   "source": [
    "# multiple inheritance example is:\n",
    "\n",
    "class father:\n",
    "    def check_father(self):\n",
    "        return \"i am father\""
   ]
  },
  {
   "cell_type": "code",
   "execution_count": 30,
   "id": "28507b5e",
   "metadata": {},
   "outputs": [],
   "source": [
    "class mother:\n",
    "    def check_mother(self):\n",
    "        return \"i am mother\""
   ]
  },
  {
   "cell_type": "code",
   "execution_count": 31,
   "id": "8a786b80",
   "metadata": {},
   "outputs": [],
   "source": [
    "class daughter(father,mother):\n",
    "    def check_daughter(self):\n",
    "        return \"hey i am daughter\""
   ]
  },
  {
   "cell_type": "code",
   "execution_count": 32,
   "id": "b8963027",
   "metadata": {},
   "outputs": [],
   "source": [
    "multiple_inheritance_obj = daughter()"
   ]
  },
  {
   "cell_type": "code",
   "execution_count": 33,
   "id": "5b1c18d9",
   "metadata": {},
   "outputs": [
    {
     "data": {
      "text/plain": [
       "'i am father'"
      ]
     },
     "execution_count": 33,
     "metadata": {},
     "output_type": "execute_result"
    }
   ],
   "source": [
    "multiple_inheritance_obj.check_father()"
   ]
  },
  {
   "cell_type": "code",
   "execution_count": 34,
   "id": "4f693670",
   "metadata": {},
   "outputs": [
    {
     "data": {
      "text/plain": [
       "'i am mother'"
      ]
     },
     "execution_count": 34,
     "metadata": {},
     "output_type": "execute_result"
    }
   ],
   "source": [
    "multiple_inheritance_obj.check_mother()"
   ]
  },
  {
   "cell_type": "code",
   "execution_count": 35,
   "id": "c27958ce",
   "metadata": {},
   "outputs": [],
   "source": [
    "# we are able to accese both the father and the mother , hence this is the multiple inheritance"
   ]
  },
  {
   "cell_type": "code",
   "execution_count": null,
   "id": "5a5ec95b",
   "metadata": {},
   "outputs": [],
   "source": []
  },
  {
   "cell_type": "markdown",
   "id": "24a5fc99",
   "metadata": {},
   "source": [
    "Q4. What are getter and setter in python? Create a class and create a getter and a setter method in this\n",
    "class."
   ]
  },
  {
   "cell_type": "markdown",
   "id": "eee9685b",
   "metadata": {},
   "source": [
    "getter method() : it is used to get the value from the user input and return it\n",
    "    \n",
    "setter method() : it is used to set the value to the data members present in the class\n",
    "    \n",
    "Basically, the main purpose of using getters and setters in object-oriented programs is to ensure data encapsulation"
   ]
  },
  {
   "cell_type": "code",
   "execution_count": 43,
   "id": "912be466",
   "metadata": {},
   "outputs": [],
   "source": [
    "class example:\n",
    "    def __init__(self,name,roll_no):\n",
    "        self._name = name\n",
    "        self._roll_no = roll_no\n",
    "        \n",
    "    # getter method\n",
    "    def get_name(self):\n",
    "        return self._name\n",
    "    def get_roll_no(self):\n",
    "        return self._roll_no\n",
    "    \n",
    "    # setter method\n",
    "    def set_name(self,name):\n",
    "        self._name = name\n",
    "    def set_roll_no(self,roll_no):\n",
    "        self._roll_no = roll_no"
   ]
  },
  {
   "cell_type": "code",
   "execution_count": 44,
   "id": "c7f2447b",
   "metadata": {},
   "outputs": [],
   "source": [
    "obj9 = example(\"tushar\",21)"
   ]
  },
  {
   "cell_type": "code",
   "execution_count": 45,
   "id": "11f73837",
   "metadata": {},
   "outputs": [
    {
     "data": {
      "text/plain": [
       "'tushar'"
      ]
     },
     "execution_count": 45,
     "metadata": {},
     "output_type": "execute_result"
    }
   ],
   "source": [
    "obj9.get_name()"
   ]
  },
  {
   "cell_type": "code",
   "execution_count": 46,
   "id": "a48e13d6",
   "metadata": {},
   "outputs": [
    {
     "data": {
      "text/plain": [
       "21"
      ]
     },
     "execution_count": 46,
     "metadata": {},
     "output_type": "execute_result"
    }
   ],
   "source": [
    "obj9.get_roll_no()"
   ]
  },
  {
   "cell_type": "code",
   "execution_count": 47,
   "id": "673ada13",
   "metadata": {},
   "outputs": [],
   "source": [
    "# we can also set the new value by using the setter method\n",
    "\n",
    "obj9.set_name(\"himanshu\")"
   ]
  },
  {
   "cell_type": "code",
   "execution_count": 48,
   "id": "fe0f62ca",
   "metadata": {},
   "outputs": [
    {
     "data": {
      "text/plain": [
       "'himanshu'"
      ]
     },
     "execution_count": 48,
     "metadata": {},
     "output_type": "execute_result"
    }
   ],
   "source": [
    "obj9.get_name()"
   ]
  },
  {
   "cell_type": "code",
   "execution_count": null,
   "id": "a6badd39",
   "metadata": {},
   "outputs": [],
   "source": []
  },
  {
   "cell_type": "markdown",
   "id": "24acc712",
   "metadata": {},
   "source": [
    "Q5.What is method overriding in python? Write a python code to demonstrate method overriding."
   ]
  },
  {
   "cell_type": "markdown",
   "id": "d065dae8",
   "metadata": {},
   "source": [
    "Method overriding : method overriding is basically allowing the subclass or child class to implement its own implementation over the parent class implementation. To acheive the method overriding the function(method) name should be same and must have same return type"
   ]
  },
  {
   "cell_type": "code",
   "execution_count": 54,
   "id": "af696c8d",
   "metadata": {},
   "outputs": [],
   "source": [
    "class classA:\n",
    "    def check(self):\n",
    "        return \"this is the method A\""
   ]
  },
  {
   "cell_type": "code",
   "execution_count": 55,
   "id": "8d858092",
   "metadata": {},
   "outputs": [],
   "source": [
    "class classB(classA):\n",
    "    def check(self):\n",
    "        return \"this is the method B\""
   ]
  },
  {
   "cell_type": "code",
   "execution_count": 56,
   "id": "0252aaaf",
   "metadata": {},
   "outputs": [],
   "source": [
    "test_obj = classB()"
   ]
  },
  {
   "cell_type": "code",
   "execution_count": 57,
   "id": "96ac413d",
   "metadata": {},
   "outputs": [
    {
     "data": {
      "text/plain": [
       "'this is the method B'"
      ]
     },
     "execution_count": 57,
     "metadata": {},
     "output_type": "execute_result"
    }
   ],
   "source": [
    "test_obj.check()"
   ]
  },
  {
   "cell_type": "code",
   "execution_count": null,
   "id": "215c39f7",
   "metadata": {},
   "outputs": [],
   "source": []
  }
 ],
 "metadata": {
  "kernelspec": {
   "display_name": "Python 3 (ipykernel)",
   "language": "python",
   "name": "python3"
  },
  "language_info": {
   "codemirror_mode": {
    "name": "ipython",
    "version": 3
   },
   "file_extension": ".py",
   "mimetype": "text/x-python",
   "name": "python",
   "nbconvert_exporter": "python",
   "pygments_lexer": "ipython3",
   "version": "3.9.12"
  }
 },
 "nbformat": 4,
 "nbformat_minor": 5
}
